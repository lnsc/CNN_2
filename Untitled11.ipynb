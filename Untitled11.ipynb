{
  "nbformat": 4,
  "nbformat_minor": 0,
  "metadata": {
    "colab": {
      "name": "Untitled11.ipynb",
      "version": "0.3.2",
      "provenance": [],
      "collapsed_sections": []
    },
    "kernelspec": {
      "name": "python2",
      "display_name": "Python 2"
    }
  },
  "cells": [
    {
      "cell_type": "code",
      "metadata": {
        "id": "vDxEh9CFxGTc",
        "colab_type": "code",
        "colab": {
          "base_uri": "https://localhost:8080/",
          "height": 204
        },
        "outputId": "4fbdfd55-b9ab-4be7-abbb-f9e7eae1f7a5"
      },
      "source": [
        "import tensorflow as tf\n",
        "import os\n",
        "import zipfile\n",
        "DESIRED_ACCURACY = 0.999\n",
        "!wget --no-check-certificate \\\n",
        " \"https://storage.googleapis.com/laurencemoroney-blog.appspot.com/happy-or-sad.zip\" \\\n",
        " -O \"/tmp/happy-or-sad.zip\"\n",
        "zip_ref = zipfile.ZipFile(\"/tmp/happy-or-sad.zip\", 'r')\n",
        "zip_ref.extractall(\"/tmp/h-or-s\")\n",
        "zip_ref.close()"
      ],
      "execution_count": 1,
      "outputs": [
        {
          "output_type": "stream",
          "text": [
            "--2019-06-24 18:34:45--  https://storage.googleapis.com/laurencemoroney-blog.appspot.com/happy-or-sad.zip\n",
            "Resolving storage.googleapis.com (storage.googleapis.com)... 74.125.141.128, 2607:f8b0:400c:c06::80\n",
            "Connecting to storage.googleapis.com (storage.googleapis.com)|74.125.141.128|:443... connected.\n",
            "HTTP request sent, awaiting response... 200 OK\n",
            "Length: 2670333 (2.5M) [application/zip]\n",
            "Saving to: ‘/tmp/happy-or-sad.zip’\n",
            "\n",
            "\r/tmp/happy-or-sad.z   0%[                    ]       0  --.-KB/s               \r/tmp/happy-or-sad.z 100%[===================>]   2.55M  --.-KB/s    in 0.01s   \n",
            "\n",
            "2019-06-24 18:34:45 (175 MB/s) - ‘/tmp/happy-or-sad.zip’ saved [2670333/2670333]\n",
            "\n"
          ],
          "name": "stdout"
        }
      ]
    },
    {
      "cell_type": "code",
      "metadata": {
        "id": "8rwrd_YbxoVU",
        "colab_type": "code",
        "colab": {}
      },
      "source": [
        "class myCallback(tf.keras.callbacks.Callback):\n",
        "  def on_epoch_end(self, epoch, logs = {}):\n",
        "\t\tif(logs.get('acc')>DESIRED_ACCURACY):\n",
        "\t\t\tprint (\"\\nAlcanzó el 99.9% de precisión, de modo que se cancela el entrenamiento!\")\n",
        "\t\t\tself.model.stop_training = True\n",
        "\n",
        "callbacks = myCallback()\n"
      ],
      "execution_count": 0,
      "outputs": []
    },
    {
      "cell_type": "code",
      "metadata": {
        "id": "YpnwSqr5Prxx",
        "colab_type": "code",
        "colab": {}
      },
      "source": [
        "# El Modelo\n",
        "model = tf.keras.models.Sequential([\n",
        "    tf.keras.layers.Conv2D(16, (3,3), activation='relu', input_shape=(150, 150, 3)),\n",
        "    tf.keras.layers.MaxPooling2D(2, 2),\n",
        "    tf.keras.layers.Conv2D(32, (3,3), activation='relu'),\n",
        "    tf.keras.layers.MaxPooling2D(2,2),\n",
        "    tf.keras.layers.Conv2D(32, (3,3), activation='relu'),\n",
        "    tf.keras.layers.MaxPooling2D(2,2),\n",
        "    tf.keras.layers.Flatten(),\n",
        "    tf.keras.layers.Dense(512, activation='relu'),\n",
        "    tf.keras.layers.Dense(1, activation='sigmoid')\n",
        "])\n"
      ],
      "execution_count": 0,
      "outputs": []
    },
    {
      "cell_type": "code",
      "metadata": {
        "id": "Yg-76XnkWLjs",
        "colab_type": "code",
        "colab": {
          "base_uri": "https://localhost:8080/",
          "height": 615
        },
        "outputId": "434354e0-3180-49bd-e514-0f1ebf1130e0"
      },
      "source": [
        "from tensorflow.keras.optimizers import RMSprop\n",
        "model.compile(loss='binary_crossentropy',\n",
        "              optimizer=RMSprop(lr=0.001),\n",
        "              metrics=['acc'])\n",
        "\n",
        "# Y un train_generator llamando a train_datagen.flow_from_directory\n",
        "from tensorflow.keras.preprocessing.image import ImageDataGenerator\n",
        "train_datagen =  ImageDataGenerator(rescale=1/255)\n",
        "train_generator = train_datagen.flow_from_directory(\n",
        " # Your Code Here)\n",
        "    \"/tmp/h-or-s\",  \n",
        "      target_size=(150, 150), \n",
        "      batch_size=10,\n",
        "      class_mode='binary')\n",
        "# Expected output: 'Found 80 images belonging to 2 classes'\n",
        "# Este bloque de código debe llamar a model.fit_generator y entrenar para una serie de épocas.\n",
        "history = model.fit_generator(\n",
        " # Your Code Here)\n",
        "      train_generator,\n",
        "      steps_per_epoch=2,  \n",
        "      epochs=15,\n",
        "      verbose=1,\n",
        "      callbacks=[callbacks])\n",
        "# Expected output: \"Reached 99.9% accuracy so cancelling training!\"\""
      ],
      "execution_count": 7,
      "outputs": [
        {
          "output_type": "stream",
          "text": [
            "W0624 21:26:18.803307 140343575693184 deprecation.py:323] From /usr/local/lib/python2.7/dist-packages/tensorflow/python/ops/nn_impl.py:180: where (from tensorflow.python.ops.array_ops) is deprecated and will be removed in a future version.\n",
            "Instructions for updating:\n",
            "Use tf.where in 2.0, which has the same broadcast rule as np.where\n"
          ],
          "name": "stderr"
        },
        {
          "output_type": "stream",
          "text": [
            "Found 80 images belonging to 2 classes.\n",
            "Epoch 1/15\n",
            "2/2 [==============================] - 1s 715ms/step - loss: 947.2190 - acc: 0.4000\n",
            "Epoch 2/15\n",
            "2/2 [==============================] - 0s 180ms/step - loss: 197.9265 - acc: 0.4500\n",
            "Epoch 3/15\n",
            "2/2 [==============================] - 0s 176ms/step - loss: 35.0811 - acc: 0.6500\n",
            "Epoch 4/15\n",
            "2/2 [==============================] - 0s 215ms/step - loss: 4.3031 - acc: 0.8500\n",
            "Epoch 5/15\n",
            "2/2 [==============================] - 0s 199ms/step - loss: 27.9427 - acc: 0.6000\n",
            "Epoch 6/15\n",
            "2/2 [==============================] - 0s 226ms/step - loss: 6.1447 - acc: 0.6500\n",
            "Epoch 7/15\n",
            "2/2 [==============================] - 0s 224ms/step - loss: 11.1671 - acc: 0.6500\n",
            "Epoch 8/15\n",
            "2/2 [==============================] - 1s 253ms/step - loss: 8.3652 - acc: 0.6500\n",
            "Epoch 9/15\n",
            "2/2 [==============================] - 0s 248ms/step - loss: 1.7527 - acc: 0.9500\n",
            "Epoch 10/15\n",
            "2/2 [==============================] - 0s 224ms/step - loss: 0.3992 - acc: 0.8500\n",
            "Epoch 11/15\n",
            "2/2 [==============================] - 0s 229ms/step - loss: 1.7653 - acc: 0.9000\n",
            "Epoch 12/15\n",
            "2/2 [==============================] - 1s 258ms/step - loss: 0.0376 - acc: 0.9500\n",
            "Epoch 13/15\n",
            "2/2 [==============================] - 1s 254ms/step - loss: 1.6135 - acc: 0.8500\n",
            "Epoch 14/15\n",
            "1/2 [==============>...............] - ETA: 0s - loss: 3.6885e-05 - acc: 1.0000\n",
            "Alcanzó el 99.9% de precisión, de modo que se cancela el entrenamiento!\n",
            "2/2 [==============================] - 0s 234ms/step - loss: 1.8452e-05 - acc: 1.0000\n"
          ],
          "name": "stdout"
        }
      ]
    }
  ]
}